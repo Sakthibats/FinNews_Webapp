{
 "cells": [
  {
   "cell_type": "code",
   "execution_count": 11,
   "metadata": {},
   "outputs": [],
   "source": [
    "import csv\n",
    "import requests\n",
    "import os\n",
    "import pandas as pd\n",
    "import json\n",
    "key = os.environ.get(\"ALPHA_VANTAGE_KEY\")\n"
   ]
  },
  {
   "cell_type": "code",
   "execution_count": 14,
   "metadata": {},
   "outputs": [],
   "source": [
    "# replace the \"demo\" apikey below with your own key from https://www.alphavantage.co/support/#api-key\n",
    "CSV_URL = 'https://www.alphavantage.co/query?function=LISTING_STATUS&apikey={}'.format(key)\n",
    "\n",
    "with requests.Session() as s:\n",
    "    download = s.get(CSV_URL)\n",
    "    decoded_content = download.content.decode('utf-8')\n",
    "    cr = csv.reader(decoded_content.splitlines(), delimiter=',')\n",
    "    #makeinto pandas dataframe, first row as header\n",
    "    df = pd.DataFrame(cr)\n",
    "    headers = df.iloc[0]\n",
    "    df.columns = [headers]\n",
    "    df.drop(index=0, axis=0, inplace=True)\n",
    "    #create list of items as such { value: symbol, label: Name (Symbol) }\n",
    "    items = []\n",
    "    for index, row in df.iterrows():\n",
    "        items.append({'value': row['name'] , 'label': row['symbol'] })\n",
    "    #save list to json file\n",
    "    with open('data.json', 'w') as outfile:\n",
    "        json.dump(items, outfile)\n",
    "    "
   ]
  },
  {
   "cell_type": "code",
   "execution_count": 33,
   "metadata": {},
   "outputs": [
    {
     "data": {
      "text/plain": [
       "[{'value': 'Tenaris S.A.', 'label': 'TS'},\n",
       " {'value': 'Telos Corp', 'label': 'TLS'},\n",
       " {'value': 'Tesla Inc', 'label': 'TSLA'},\n",
       " {'value': 'TotalEnergies SE', 'label': 'TTE'},\n",
       " {'value': 'Terex Corp', 'label': 'TEX'},\n",
       " {'value': 'TSR Inc', 'label': 'TSRI'},\n",
       " {'value': 'Trinseo PLC', 'label': 'TSE'},\n",
       " {'value': 'Direxion Daily Technology Bear -3X Shares', 'label': 'TECS'},\n",
       " {'value': 'Teradyne Inc', 'label': 'TER'},\n",
       " {'value': 'Treehouse Foods Inc', 'label': 'THS'},\n",
       " {'value': 'Team Inc', 'label': 'TISI'},\n",
       " {'value': 'Tecnoglass Inc', 'label': 'TGLS'},\n",
       " {'value': 'Telefonica S.A', 'label': 'TEF'},\n",
       " {'value': 'Container Store Group Inc', 'label': 'TCS'},\n",
       " {'value': 'Tennessee Valley Authority', 'label': 'TVE'},\n",
       " {'value': 'Techprecision Corp', 'label': 'TPCS'},\n",
       " {'value': 'TREX Co. Inc', 'label': 'TREX'},\n",
       " {'value': 'Trimas Corporation', 'label': 'TRS'},\n",
       " {'value': 'Truecar Inc', 'label': 'TRUE'},\n",
       " {'value': 'Telus Corp', 'label': 'TU'}]"
      ]
     },
     "execution_count": 33,
     "metadata": {},
     "output_type": "execute_result"
    }
   ],
   "source": [
    "from fuzzywuzzy import fuzz\n",
    "\n",
    "# Parse datajson to fuzzy match similarity with word and return the top 20 matches sorted by closeness match on value and word\n",
    "def fuzzy(word):\n",
    "    with open('data.json', 'r') as json_file:\n",
    "        data = json.load(json_file)\n",
    "        \n",
    "        #by first letter of word and label\n",
    "        dataload = list(filter(lambda x: x['label'].startswith(word[0].upper()), data))\n",
    "\n",
    "        # Define a function to calculate the similarity score\n",
    "        def similarity_score(item):\n",
    "            # Modify this scoring as needed\n",
    "            value_similarity = fuzz.token_sort_ratio(word.lower(), item['value'].lower())\n",
    "            label_similarity = fuzz.token_sort_ratio(word.lower(), item['label'].lower())\n",
    "            return value_similarity + label_similarity\n",
    "\n",
    "        # Sort the data based on similarity score in descending order\n",
    "        sorted_data = sorted(dataload, key=similarity_score, reverse=True)\n",
    "\n",
    "        # Return the top 20 matches\n",
    "        return sorted_data[:20]\n",
    "    \n",
    "\n",
    "fuzzy('tes')\n"
   ]
  },
  {
   "cell_type": "code",
   "execution_count": null,
   "metadata": {},
   "outputs": [],
   "source": []
  }
 ],
 "metadata": {
  "kernelspec": {
   "display_name": "base",
   "language": "python",
   "name": "python3"
  },
  "language_info": {
   "codemirror_mode": {
    "name": "ipython",
    "version": 3
   },
   "file_extension": ".py",
   "mimetype": "text/x-python",
   "name": "python",
   "nbconvert_exporter": "python",
   "pygments_lexer": "ipython3",
   "version": "3.9.12"
  },
  "orig_nbformat": 4
 },
 "nbformat": 4,
 "nbformat_minor": 2
}
