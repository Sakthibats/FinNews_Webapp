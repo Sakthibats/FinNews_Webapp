{
 "cells": [
  {
   "cell_type": "code",
   "execution_count": 1,
   "metadata": {},
   "outputs": [],
   "source": [
    "import csv\n",
    "import requests\n",
    "import os\n",
    "import pandas as pd\n",
    "import json\n",
    "key = os.environ.get(\"ALPHA_VANTAGE_KEY\")\n"
   ]
  },
  {
   "cell_type": "code",
   "execution_count": 9,
   "metadata": {},
   "outputs": [],
   "source": [
    "# replace the \"demo\" apikey below with your own key from https://www.alphavantage.co/support/#api-key\n",
    "CSV_URL = 'https://www.alphavantage.co/query?function=LISTING_STATUS&apikey={}'.format(key)\n",
    "\n",
    "with requests.Session() as s:\n",
    "    download = s.get(CSV_URL)\n",
    "    decoded_content = download.content.decode('utf-8')\n",
    "    cr = csv.reader(decoded_content.splitlines(), delimiter=',')\n",
    "    #makeinto pandas dataframe, first row as header\n",
    "    df = pd.DataFrame(cr)\n",
    "    headers = df.iloc[0]\n",
    "    df.columns = [headers]\n",
    "    df.drop(index=0, axis=0, inplace=True)\n",
    "    #create list of items as such { value: symbol, label: Name (Symbol) }\n",
    "    items = []\n",
    "    for index, row in df.iterrows():\n",
    "        items.append({'value': row['name'] , 'label': row['symbol'] })\n",
    "    #save list to json file\n",
    "    with open('data.json', 'w') as outfile:\n",
    "        json.dump(items, outfile)\n",
    "    "
   ]
  },
  {
   "cell_type": "code",
   "execution_count": 5,
   "metadata": {},
   "outputs": [
    {
     "data": {
      "text/plain": [
       "[{'value': 'Tesla Inc', 'label': 'TSLA | Tesla Inc'},\n",
       " {'value': 'Telus Corp', 'label': 'TU | Telus Corp'},\n",
       " {'value': 'Telos Corp', 'label': 'TLS | Telos Corp'},\n",
       " {'value': 'Tenaris S.A.', 'label': 'TS | Tenaris S.A.'},\n",
       " {'value': 'Team Inc', 'label': 'TISI | Team Inc'},\n",
       " {'value': 'Tapestry Inc', 'label': 'TPR | Tapestry Inc'},\n",
       " {'value': 'TSR Inc', 'label': 'TSRI | TSR Inc'},\n",
       " {'value': 'Tecnoglass Inc', 'label': 'TGLS | Tecnoglass Inc'},\n",
       " {'value': 'Trinseo PLC', 'label': 'TSE | Trinseo PLC'},\n",
       " {'value': 'Telesis Bio Inc', 'label': 'TBIO | Telesis Bio Inc'},\n",
       " {'value': 'Taseko Mines Ltd', 'label': 'TGB | Taseko Mines Ltd'},\n",
       " {'value': 'TXO Partners L.P.', 'label': 'TXO | TXO Partners L.P.'},\n",
       " {'value': 'TEGNA Inc', 'label': 'TGNA | TEGNA Inc'},\n",
       " {'value': 'Travelzoo', 'label': 'TZOO | Travelzoo'},\n",
       " {'value': 'Invesco Solar ETF', 'label': 'TAN | Invesco Solar ETF'},\n",
       " {'value': 'Terex Corp', 'label': 'TEX | Terex Corp'},\n",
       " {'value': 'Toll Brothers Inc', 'label': 'TOL | Toll Brothers Inc'},\n",
       " {'value': 'TransUnion', 'label': 'TRU | TransUnion'},\n",
       " {'value': 'T2 Biosystems Inc', 'label': 'TTOO | T2 Biosystems Inc'},\n",
       " {'value': 'Grupo Televisa SAB', 'label': 'TV | Grupo Televisa SAB'}]"
      ]
     },
     "execution_count": 5,
     "metadata": {},
     "output_type": "execute_result"
    }
   ],
   "source": [
    "from fuzzywuzzy import fuzz\n",
    "\n",
    "# Parse datajson to fuzzy match similarity with word and return the top 20 matches sorted by closeness match on value and word\n",
    "def fuzzy(word):\n",
    "    with open('data.json', 'r') as json_file:\n",
    "        data = json.load(json_file)\n",
    "        \n",
    "        #by first letter of word and label\n",
    "        dataload = list(filter(lambda x: x['label'].startswith(word[0].upper()), data))\n",
    "\n",
    "        # Define a function to calculate the similarity score\n",
    "        def similarity_score(item):\n",
    "            # Modify this scoring as needed\n",
    "            value_similarity = fuzz.token_sort_ratio(word.lower(), item['value'].lower())\n",
    "            label_similarity = fuzz.token_sort_ratio(word.lower(), item['label'].lower())\n",
    "            return value_similarity + label_similarity\n",
    "\n",
    "        # Sort the data based on similarity score in descending order\n",
    "        sorted_data = sorted(dataload, key=similarity_score, reverse=True)\n",
    "\n",
    "        # Return the top 20 matches\n",
    "        return sorted_data[:20]\n",
    "    \n",
    "\n",
    "fuzzy('tes')\n"
   ]
  },
  {
   "cell_type": "code",
   "execution_count": null,
   "metadata": {},
   "outputs": [],
   "source": []
  }
 ],
 "metadata": {
  "kernelspec": {
   "display_name": "base",
   "language": "python",
   "name": "python3"
  },
  "language_info": {
   "codemirror_mode": {
    "name": "ipython",
    "version": 3
   },
   "file_extension": ".py",
   "mimetype": "text/x-python",
   "name": "python",
   "nbconvert_exporter": "python",
   "pygments_lexer": "ipython3",
   "version": "3.9.12"
  },
  "orig_nbformat": 4
 },
 "nbformat": 4,
 "nbformat_minor": 2
}
